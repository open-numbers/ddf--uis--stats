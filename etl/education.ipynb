{
 "cells": [
  {
   "cell_type": "code",
   "execution_count": 1,
   "metadata": {
    "collapsed": true
   },
   "outputs": [],
   "source": [
    "import pandas as pd\n",
    "import numpy as np\n",
    "import os\n",
    "\n",
    "from ddf_utils.str import to_concept_id\n",
    "from ddf_utils.index import create_index_file"
   ]
  },
  {
   "cell_type": "code",
   "execution_count": 2,
   "metadata": {
    "collapsed": true
   },
   "outputs": [],
   "source": [
    "import xmltodict\n",
    "from lxml import etree"
   ]
  },
  {
   "cell_type": "code",
   "execution_count": null,
   "metadata": {
    "collapsed": true
   },
   "outputs": [],
   "source": []
  },
  {
   "cell_type": "code",
   "execution_count": 3,
   "metadata": {
    "collapsed": true
   },
   "outputs": [],
   "source": [
    "dsd = 'source/education_dsd.xml'\n",
    "data = 'source/education.xml'"
   ]
  },
  {
   "cell_type": "code",
   "execution_count": null,
   "metadata": {
    "collapsed": true
   },
   "outputs": [],
   "source": []
  },
  {
   "cell_type": "code",
   "execution_count": 4,
   "metadata": {
    "collapsed": false
   },
   "outputs": [],
   "source": [
    "with open(dsd) as f:\n",
    "    dsd = xmltodict.parse(f.read())"
   ]
  },
  {
   "cell_type": "code",
   "execution_count": null,
   "metadata": {
    "collapsed": true
   },
   "outputs": [],
   "source": []
  },
  {
   "cell_type": "code",
   "execution_count": 66,
   "metadata": {
    "collapsed": true
   },
   "outputs": [],
   "source": [
    "# concepts"
   ]
  },
  {
   "cell_type": "code",
   "execution_count": 5,
   "metadata": {
    "collapsed": false,
    "scrolled": false
   },
   "outputs": [],
   "source": [
    "indicators = dsd['message:Structure']['message:CodeLists']['CodeList'][0]"
   ]
  },
  {
   "cell_type": "code",
   "execution_count": 6,
   "metadata": {
    "collapsed": false
   },
   "outputs": [
    {
     "data": {
      "text/plain": [
       "1868"
      ]
     },
     "execution_count": 6,
     "metadata": {},
     "output_type": "execute_result"
    }
   ],
   "source": [
    "len(indicators['Code'])"
   ]
  },
  {
   "cell_type": "code",
   "execution_count": 7,
   "metadata": {
    "collapsed": false
   },
   "outputs": [],
   "source": [
    "indi_info_list = []\n",
    "\n",
    "for i in indicators['Code']:\n",
    "    indi_info = []\n",
    "    indi_info.append(i['@value'])\n",
    "    \n",
    "    if '@parentCode' in i.keys():\n",
    "        indi_info.append(i['@parentCode'])\n",
    "    else:\n",
    "        indi_info.append(np.nan)\n",
    "    \n",
    "    if isinstance(i['Description'], dict):\n",
    "        indi_info.append(i['Description']['#text'])\n",
    "    else:\n",
    "        indi_info.append(i['Description'][0]['#text'])\n",
    "        \n",
    "    indi_info_list.append(indi_info)"
   ]
  },
  {
   "cell_type": "code",
   "execution_count": 8,
   "metadata": {
    "collapsed": false
   },
   "outputs": [],
   "source": [
    "conc = pd.DataFrame(indi_info_list, columns=['concept', 'drillup', 'name'])"
   ]
  },
  {
   "cell_type": "code",
   "execution_count": 9,
   "metadata": {
    "collapsed": false
   },
   "outputs": [],
   "source": [
    "conc['concept'] = conc['concept'].map(to_concept_id)\n",
    "conc['drillup'] = conc['drillup'].map(to_concept_id)"
   ]
  },
  {
   "cell_type": "code",
   "execution_count": 10,
   "metadata": {
    "collapsed": true
   },
   "outputs": [],
   "source": [
    "conc['concept_type'] = 'measure'"
   ]
  },
  {
   "cell_type": "code",
   "execution_count": null,
   "metadata": {
    "collapsed": false,
    "scrolled": true
   },
   "outputs": [],
   "source": [
    "# refer to the cells below to check what's all_data\n",
    "\n",
    "conc = conc.set_index('concept')"
   ]
  },
  {
   "cell_type": "code",
   "execution_count": 38,
   "metadata": {
    "collapsed": false
   },
   "outputs": [],
   "source": [
    "cdf = conc.loc[all_data.keys()]\n",
    "\n",
    "cdf.sort_index()[['name', 'concept_type']].to_csv('../ddf--concepts--continuous.csv')"
   ]
  },
  {
   "cell_type": "code",
   "execution_count": null,
   "metadata": {
    "collapsed": true
   },
   "outputs": [],
   "source": []
  },
  {
   "cell_type": "code",
   "execution_count": 33,
   "metadata": {
    "collapsed": true
   },
   "outputs": [],
   "source": [
    "# discrete concepts\n",
    "\n",
    "disc = pd.DataFrame([['name', 'Name', 'string'],\n",
    "                     ['time', 'Year', 'time'],\n",
    "                     ['location', 'Location', 'entity_domain']\n",
    "                    ], columns=['concept', 'name', 'concept_type'])\n",
    "\n",
    "disc.to_csv('../ddf--concepts--discrete.csv', index=False)"
   ]
  },
  {
   "cell_type": "code",
   "execution_count": null,
   "metadata": {
    "collapsed": true
   },
   "outputs": [],
   "source": []
  },
  {
   "cell_type": "code",
   "execution_count": null,
   "metadata": {
    "collapsed": true
   },
   "outputs": [],
   "source": []
  },
  {
   "cell_type": "code",
   "execution_count": null,
   "metadata": {
    "collapsed": true
   },
   "outputs": [],
   "source": [
    "# location"
   ]
  },
  {
   "cell_type": "code",
   "execution_count": 11,
   "metadata": {
    "collapsed": true
   },
   "outputs": [],
   "source": [
    "locs = dsd['message:Structure']['message:CodeLists']['CodeList'][1]"
   ]
  },
  {
   "cell_type": "code",
   "execution_count": 12,
   "metadata": {
    "collapsed": false
   },
   "outputs": [],
   "source": [
    "loc_list = []\n",
    "\n",
    "for c in locs['Code']:\n",
    "    cinfo = [c['@value'], c['Description'][0]['#text']]\n",
    "    \n",
    "    loc_list.append(cinfo)"
   ]
  },
  {
   "cell_type": "code",
   "execution_count": 13,
   "metadata": {
    "collapsed": true
   },
   "outputs": [],
   "source": [
    "loc_df = pd.DataFrame(loc_list, columns=['location', 'name'])"
   ]
  },
  {
   "cell_type": "code",
   "execution_count": 14,
   "metadata": {
    "collapsed": false
   },
   "outputs": [],
   "source": [
    "loc_df['location'] = loc_df['location'].map(to_concept_id)"
   ]
  },
  {
   "cell_type": "code",
   "execution_count": 15,
   "metadata": {
    "collapsed": true
   },
   "outputs": [],
   "source": [
    "loc_df.to_csv('../ddf--entities--location.csv', index=False)"
   ]
  },
  {
   "cell_type": "code",
   "execution_count": null,
   "metadata": {
    "collapsed": true
   },
   "outputs": [],
   "source": []
  },
  {
   "cell_type": "code",
   "execution_count": null,
   "metadata": {
    "collapsed": true
   },
   "outputs": [],
   "source": []
  },
  {
   "cell_type": "code",
   "execution_count": null,
   "metadata": {
    "collapsed": true
   },
   "outputs": [],
   "source": [
    "# datapoints"
   ]
  },
  {
   "cell_type": "code",
   "execution_count": 16,
   "metadata": {
    "collapsed": true
   },
   "outputs": [],
   "source": [
    "f2 = open('source/education.xml')"
   ]
  },
  {
   "cell_type": "code",
   "execution_count": 17,
   "metadata": {
    "collapsed": true
   },
   "outputs": [],
   "source": [
    "d2 = etree.parse(f2)"
   ]
  },
  {
   "cell_type": "code",
   "execution_count": 18,
   "metadata": {
    "collapsed": false
   },
   "outputs": [],
   "source": [
    "root = d2.getroot()"
   ]
  },
  {
   "cell_type": "code",
   "execution_count": 19,
   "metadata": {
    "collapsed": false
   },
   "outputs": [
    {
     "data": {
      "text/plain": [
       "[<Element {http://www.SDMX.org/resources/SDMXML/schemas/v2_0/message}Header at 0x110f49b08>,\n",
       " <Element {http://www.SDMX.org/resources/SDMXML/schemas/v2_0/generic}DataSet at 0x110f44ac8>]"
      ]
     },
     "execution_count": 19,
     "metadata": {},
     "output_type": "execute_result"
    }
   ],
   "source": [
    "root.getchildren()"
   ]
  },
  {
   "cell_type": "code",
   "execution_count": 20,
   "metadata": {
    "collapsed": false
   },
   "outputs": [],
   "source": [
    "nsmap = root.nsmap.copy()"
   ]
  },
  {
   "cell_type": "code",
   "execution_count": 21,
   "metadata": {
    "collapsed": false
   },
   "outputs": [
    {
     "data": {
      "text/plain": [
       "{'xsi': 'http://www.w3.org/2001/XMLSchema-instance',\n",
       " 'common': 'http://www.SDMX.org/resources/SDMXML/schemas/v2_0/common',\n",
       " None: 'http://www.SDMX.org/resources/SDMXML/schemas/v2_0/generic',\n",
       " 'message': 'http://www.SDMX.org/resources/SDMXML/schemas/v2_0/message'}"
      ]
     },
     "execution_count": 21,
     "metadata": {},
     "output_type": "execute_result"
    }
   ],
   "source": [
    "nsmap"
   ]
  },
  {
   "cell_type": "code",
   "execution_count": 22,
   "metadata": {
    "collapsed": true
   },
   "outputs": [],
   "source": [
    "nsmap['xmlns'] = nsmap.pop(None)  # change None to a meaningful name, so that I can use later."
   ]
  },
  {
   "cell_type": "code",
   "execution_count": 47,
   "metadata": {
    "collapsed": false
   },
   "outputs": [
    {
     "name": "stdout",
     "output_type": "stream",
     "text": [
      "CPU times: user 2min 3s, sys: 3.54 s, total: 2min 7s\n",
      "Wall time: 2min 7s\n"
     ]
    }
   ],
   "source": [
    "%%time\n",
    "\n",
    "all_data = {}\n",
    "\n",
    "for item in root.xpath('.//xmlns:Series', namespaces=nsmap):\n",
    "    item_dict = xmltodict.parse(etree.tostring(item))\n",
    "    \n",
    "    attrs = {}\n",
    "    ser = []\n",
    "    \n",
    "    for i in item_dict['Series']['SeriesKey']['Value']:\n",
    "        if i['@concept'] == 'EDULIT_IND':\n",
    "            attrs['key'] = to_concept_id(i['@value'])\n",
    "        if i['@concept'] == 'LOCATION':\n",
    "            attrs['location'] = to_concept_id(i['@value'])\n",
    "            \n",
    "    obs = item_dict['Series']['Obs']\n",
    "    if isinstance(obs, list):\n",
    "        for o in item_dict['Series']['Obs']:\n",
    "            ser.append([o['Time'], o['ObsValue']['@value']])\n",
    "    else:\n",
    "        ser.append([obs['Time'], obs['ObsValue']['@value']])\n",
    "    \n",
    "#     df = pd.DataFrame(ser, columns=['time', attrs['key']])\n",
    "#     df['location'] = attrs['location']\n",
    "\n",
    "    if attrs['key'] not in all_data.keys():\n",
    "        all_data[attrs['key']] = {attrs['location']: ser}\n",
    "    else:\n",
    "        all_data[attrs['key']][attrs['location']] = ser"
   ]
  },
  {
   "cell_type": "code",
   "execution_count": 48,
   "metadata": {
    "collapsed": false
   },
   "outputs": [
    {
     "data": {
      "text/plain": [
       "1683"
      ]
     },
     "execution_count": 48,
     "metadata": {},
     "output_type": "execute_result"
    }
   ],
   "source": [
    "len(all_data.keys())"
   ]
  },
  {
   "cell_type": "code",
   "execution_count": 50,
   "metadata": {
    "collapsed": false
   },
   "outputs": [
    {
     "data": {
      "text/plain": [
       "[['1999', '56604'],\n",
       " ['2000', '52901'],\n",
       " ['2001', '46379'],\n",
       " ['2002', '44409'],\n",
       " ['2003', '44849'],\n",
       " ['2004', '46141'],\n",
       " ['2005', '45470'],\n",
       " ['2006', '47791'],\n",
       " ['2007', '47308'],\n",
       " ['2008', '49777']]"
      ]
     },
     "execution_count": 50,
     "metadata": {},
     "output_type": "execute_result"
    }
   ],
   "source": [
    "all_data['20000']['arm'][:10]"
   ]
  },
  {
   "cell_type": "code",
   "execution_count": 55,
   "metadata": {
    "collapsed": false,
    "scrolled": true
   },
   "outputs": [
    {
     "name": "stdout",
     "output_type": "stream",
     "text": [
      "CPU times: user 5min 49s, sys: 2.26 s, total: 5min 51s\n",
      "Wall time: 5min 54s\n"
     ]
    }
   ],
   "source": [
    "%%time\n",
    "\n",
    "all_data_df = {}\n",
    "\n",
    "for k, v in all_data.items():\n",
    "    \n",
    "    to_concat = []\n",
    "    \n",
    "    for loc, ser in v.items():\n",
    "        df = pd.DataFrame(ser, columns=['time', k])\n",
    "        df['location'] = loc\n",
    "        to_concat.append(df)\n",
    "\n",
    "    all_data_df[k] = pd.concat(to_concat, ignore_index=True)"
   ]
  },
  {
   "cell_type": "code",
   "execution_count": 35,
   "metadata": {
    "collapsed": false,
    "scrolled": false
   },
   "outputs": [],
   "source": [
    "for k, df in all_data_df.items():\n",
    "    df = df.dropna(how='any')\n",
    "    df = df[df[k] != 'NaN']\n",
    "    path = '../ddf--datapoints--{}--by--location--time.csv'.format(k)\n",
    "    \n",
    "    df.to_csv(path, index=False)"
   ]
  },
  {
   "cell_type": "code",
   "execution_count": null,
   "metadata": {
    "collapsed": true
   },
   "outputs": [],
   "source": []
  },
  {
   "cell_type": "code",
   "execution_count": 39,
   "metadata": {
    "collapsed": false,
    "scrolled": true
   },
   "outputs": [
    {
     "data": {
      "text/html": [
       "<div>\n",
       "<table border=\"1\" class=\"dataframe\">\n",
       "  <thead>\n",
       "    <tr style=\"text-align: right;\">\n",
       "      <th></th>\n",
       "      <th>key</th>\n",
       "      <th>value</th>\n",
       "      <th>file</th>\n",
       "    </tr>\n",
       "  </thead>\n",
       "  <tbody>\n",
       "    <tr>\n",
       "      <th>0</th>\n",
       "      <td>concept</td>\n",
       "      <td>name</td>\n",
       "      <td>ddf--concepts--continuous.csv</td>\n",
       "    </tr>\n",
       "    <tr>\n",
       "      <th>1</th>\n",
       "      <td>concept</td>\n",
       "      <td>concept_type</td>\n",
       "      <td>ddf--concepts--continuous.csv</td>\n",
       "    </tr>\n",
       "    <tr>\n",
       "      <th>0</th>\n",
       "      <td>concept</td>\n",
       "      <td>name</td>\n",
       "      <td>ddf--concepts--discrete.csv</td>\n",
       "    </tr>\n",
       "    <tr>\n",
       "      <th>1</th>\n",
       "      <td>concept</td>\n",
       "      <td>concept_type</td>\n",
       "      <td>ddf--concepts--discrete.csv</td>\n",
       "    </tr>\n",
       "    <tr>\n",
       "      <th>0</th>\n",
       "      <td>location,time</td>\n",
       "      <td>20000</td>\n",
       "      <td>ddf--datapoints--20000--by--location--time.csv</td>\n",
       "    </tr>\n",
       "    <tr>\n",
       "      <th>0</th>\n",
       "      <td>location,time</td>\n",
       "      <td>20001</td>\n",
       "      <td>ddf--datapoints--20001--by--location--time.csv</td>\n",
       "    </tr>\n",
       "    <tr>\n",
       "      <th>0</th>\n",
       "      <td>location,time</td>\n",
       "      <td>20002</td>\n",
       "      <td>ddf--datapoints--20002--by--location--time.csv</td>\n",
       "    </tr>\n",
       "    <tr>\n",
       "      <th>0</th>\n",
       "      <td>location,time</td>\n",
       "      <td>20003</td>\n",
       "      <td>ddf--datapoints--20003--by--location--time.csv</td>\n",
       "    </tr>\n",
       "    <tr>\n",
       "      <th>0</th>\n",
       "      <td>location,time</td>\n",
       "      <td>20004</td>\n",
       "      <td>ddf--datapoints--20004--by--location--time.csv</td>\n",
       "    </tr>\n",
       "    <tr>\n",
       "      <th>0</th>\n",
       "      <td>location,time</td>\n",
       "      <td>20005</td>\n",
       "      <td>ddf--datapoints--20005--by--location--time.csv</td>\n",
       "    </tr>\n",
       "    <tr>\n",
       "      <th>0</th>\n",
       "      <td>location,time</td>\n",
       "      <td>20010</td>\n",
       "      <td>ddf--datapoints--20010--by--location--time.csv</td>\n",
       "    </tr>\n",
       "    <tr>\n",
       "      <th>0</th>\n",
       "      <td>location,time</td>\n",
       "      <td>20011</td>\n",
       "      <td>ddf--datapoints--20011--by--location--time.csv</td>\n",
       "    </tr>\n",
       "    <tr>\n",
       "      <th>0</th>\n",
       "      <td>location,time</td>\n",
       "      <td>20016</td>\n",
       "      <td>ddf--datapoints--20016--by--location--time.csv</td>\n",
       "    </tr>\n",
       "    <tr>\n",
       "      <th>0</th>\n",
       "      <td>location,time</td>\n",
       "      <td>20017</td>\n",
       "      <td>ddf--datapoints--20017--by--location--time.csv</td>\n",
       "    </tr>\n",
       "    <tr>\n",
       "      <th>0</th>\n",
       "      <td>location,time</td>\n",
       "      <td>20022</td>\n",
       "      <td>ddf--datapoints--20022--by--location--time.csv</td>\n",
       "    </tr>\n",
       "    <tr>\n",
       "      <th>0</th>\n",
       "      <td>location,time</td>\n",
       "      <td>20023</td>\n",
       "      <td>ddf--datapoints--20023--by--location--time.csv</td>\n",
       "    </tr>\n",
       "    <tr>\n",
       "      <th>0</th>\n",
       "      <td>location,time</td>\n",
       "      <td>20030</td>\n",
       "      <td>ddf--datapoints--20030--by--location--time.csv</td>\n",
       "    </tr>\n",
       "    <tr>\n",
       "      <th>0</th>\n",
       "      <td>location,time</td>\n",
       "      <td>20031</td>\n",
       "      <td>ddf--datapoints--20031--by--location--time.csv</td>\n",
       "    </tr>\n",
       "    <tr>\n",
       "      <th>0</th>\n",
       "      <td>location,time</td>\n",
       "      <td>20032</td>\n",
       "      <td>ddf--datapoints--20032--by--location--time.csv</td>\n",
       "    </tr>\n",
       "    <tr>\n",
       "      <th>0</th>\n",
       "      <td>location,time</td>\n",
       "      <td>20033</td>\n",
       "      <td>ddf--datapoints--20033--by--location--time.csv</td>\n",
       "    </tr>\n",
       "    <tr>\n",
       "      <th>0</th>\n",
       "      <td>location,time</td>\n",
       "      <td>20034</td>\n",
       "      <td>ddf--datapoints--20034--by--location--time.csv</td>\n",
       "    </tr>\n",
       "    <tr>\n",
       "      <th>0</th>\n",
       "      <td>location,time</td>\n",
       "      <td>20035</td>\n",
       "      <td>ddf--datapoints--20035--by--location--time.csv</td>\n",
       "    </tr>\n",
       "    <tr>\n",
       "      <th>0</th>\n",
       "      <td>location,time</td>\n",
       "      <td>20040</td>\n",
       "      <td>ddf--datapoints--20040--by--location--time.csv</td>\n",
       "    </tr>\n",
       "    <tr>\n",
       "      <th>0</th>\n",
       "      <td>location,time</td>\n",
       "      <td>20041</td>\n",
       "      <td>ddf--datapoints--20041--by--location--time.csv</td>\n",
       "    </tr>\n",
       "    <tr>\n",
       "      <th>0</th>\n",
       "      <td>location,time</td>\n",
       "      <td>20046</td>\n",
       "      <td>ddf--datapoints--20046--by--location--time.csv</td>\n",
       "    </tr>\n",
       "    <tr>\n",
       "      <th>0</th>\n",
       "      <td>location,time</td>\n",
       "      <td>20047</td>\n",
       "      <td>ddf--datapoints--20047--by--location--time.csv</td>\n",
       "    </tr>\n",
       "    <tr>\n",
       "      <th>0</th>\n",
       "      <td>location,time</td>\n",
       "      <td>20052</td>\n",
       "      <td>ddf--datapoints--20052--by--location--time.csv</td>\n",
       "    </tr>\n",
       "    <tr>\n",
       "      <th>0</th>\n",
       "      <td>location,time</td>\n",
       "      <td>20053</td>\n",
       "      <td>ddf--datapoints--20053--by--location--time.csv</td>\n",
       "    </tr>\n",
       "    <tr>\n",
       "      <th>0</th>\n",
       "      <td>location,time</td>\n",
       "      <td>20060</td>\n",
       "      <td>ddf--datapoints--20060--by--location--time.csv</td>\n",
       "    </tr>\n",
       "    <tr>\n",
       "      <th>0</th>\n",
       "      <td>location,time</td>\n",
       "      <td>20061</td>\n",
       "      <td>ddf--datapoints--20061--by--location--time.csv</td>\n",
       "    </tr>\n",
       "    <tr>\n",
       "      <th>...</th>\n",
       "      <td>...</td>\n",
       "      <td>...</td>\n",
       "      <td>...</td>\n",
       "    </tr>\n",
       "    <tr>\n",
       "      <th>0</th>\n",
       "      <td>location,time</td>\n",
       "      <td>xunit_gdpcap_2_fsgov</td>\n",
       "      <td>ddf--datapoints--xunit_gdpcap_2_fsgov--by--loc...</td>\n",
       "    </tr>\n",
       "    <tr>\n",
       "      <th>0</th>\n",
       "      <td>location,time</td>\n",
       "      <td>xunit_gdpcap_2t3_fsgov</td>\n",
       "      <td>ddf--datapoints--xunit_gdpcap_2t3_fsgov--by--l...</td>\n",
       "    </tr>\n",
       "    <tr>\n",
       "      <th>0</th>\n",
       "      <td>location,time</td>\n",
       "      <td>xunit_gdpcap_3_fsgov</td>\n",
       "      <td>ddf--datapoints--xunit_gdpcap_3_fsgov--by--loc...</td>\n",
       "    </tr>\n",
       "    <tr>\n",
       "      <th>0</th>\n",
       "      <td>location,time</td>\n",
       "      <td>xunit_gdpcap_4_fsgov</td>\n",
       "      <td>ddf--datapoints--xunit_gdpcap_4_fsgov--by--loc...</td>\n",
       "    </tr>\n",
       "    <tr>\n",
       "      <th>0</th>\n",
       "      <td>location,time</td>\n",
       "      <td>xunit_gdpcap_5t8_fsgov</td>\n",
       "      <td>ddf--datapoints--xunit_gdpcap_5t8_fsgov--by--l...</td>\n",
       "    </tr>\n",
       "    <tr>\n",
       "      <th>0</th>\n",
       "      <td>location,time</td>\n",
       "      <td>xunit_ppp_1_fsgov</td>\n",
       "      <td>ddf--datapoints--xunit_ppp_1_fsgov--by--locati...</td>\n",
       "    </tr>\n",
       "    <tr>\n",
       "      <th>0</th>\n",
       "      <td>location,time</td>\n",
       "      <td>xunit_ppp_2_fsgov</td>\n",
       "      <td>ddf--datapoints--xunit_ppp_2_fsgov--by--locati...</td>\n",
       "    </tr>\n",
       "    <tr>\n",
       "      <th>0</th>\n",
       "      <td>location,time</td>\n",
       "      <td>xunit_ppp_2t3_fsgov</td>\n",
       "      <td>ddf--datapoints--xunit_ppp_2t3_fsgov--by--loca...</td>\n",
       "    </tr>\n",
       "    <tr>\n",
       "      <th>0</th>\n",
       "      <td>location,time</td>\n",
       "      <td>xunit_ppp_3_fsgov</td>\n",
       "      <td>ddf--datapoints--xunit_ppp_3_fsgov--by--locati...</td>\n",
       "    </tr>\n",
       "    <tr>\n",
       "      <th>0</th>\n",
       "      <td>location,time</td>\n",
       "      <td>xunit_ppp_4_fsgov</td>\n",
       "      <td>ddf--datapoints--xunit_ppp_4_fsgov--by--locati...</td>\n",
       "    </tr>\n",
       "    <tr>\n",
       "      <th>0</th>\n",
       "      <td>location,time</td>\n",
       "      <td>xunit_ppp_5t8_fsgov</td>\n",
       "      <td>ddf--datapoints--xunit_ppp_5t8_fsgov--by--loca...</td>\n",
       "    </tr>\n",
       "    <tr>\n",
       "      <th>0</th>\n",
       "      <td>location,time</td>\n",
       "      <td>xunit_pppconst_1_fsgov</td>\n",
       "      <td>ddf--datapoints--xunit_pppconst_1_fsgov--by--l...</td>\n",
       "    </tr>\n",
       "    <tr>\n",
       "      <th>0</th>\n",
       "      <td>location,time</td>\n",
       "      <td>xunit_pppconst_2_fsgov</td>\n",
       "      <td>ddf--datapoints--xunit_pppconst_2_fsgov--by--l...</td>\n",
       "    </tr>\n",
       "    <tr>\n",
       "      <th>0</th>\n",
       "      <td>location,time</td>\n",
       "      <td>xunit_pppconst_2t3_fsgov</td>\n",
       "      <td>ddf--datapoints--xunit_pppconst_2t3_fsgov--by-...</td>\n",
       "    </tr>\n",
       "    <tr>\n",
       "      <th>0</th>\n",
       "      <td>location,time</td>\n",
       "      <td>xunit_pppconst_3_fsgov</td>\n",
       "      <td>ddf--datapoints--xunit_pppconst_3_fsgov--by--l...</td>\n",
       "    </tr>\n",
       "    <tr>\n",
       "      <th>0</th>\n",
       "      <td>location,time</td>\n",
       "      <td>xunit_pppconst_4_fsgov</td>\n",
       "      <td>ddf--datapoints--xunit_pppconst_4_fsgov--by--l...</td>\n",
       "    </tr>\n",
       "    <tr>\n",
       "      <th>0</th>\n",
       "      <td>location,time</td>\n",
       "      <td>xunit_pppconst_5t8_fsgov</td>\n",
       "      <td>ddf--datapoints--xunit_pppconst_5t8_fsgov--by-...</td>\n",
       "    </tr>\n",
       "    <tr>\n",
       "      <th>0</th>\n",
       "      <td>location,time</td>\n",
       "      <td>xunit_us_1_fsgov</td>\n",
       "      <td>ddf--datapoints--xunit_us_1_fsgov--by--locatio...</td>\n",
       "    </tr>\n",
       "    <tr>\n",
       "      <th>0</th>\n",
       "      <td>location,time</td>\n",
       "      <td>xunit_us_2_fsgov</td>\n",
       "      <td>ddf--datapoints--xunit_us_2_fsgov--by--locatio...</td>\n",
       "    </tr>\n",
       "    <tr>\n",
       "      <th>0</th>\n",
       "      <td>location,time</td>\n",
       "      <td>xunit_us_2t3_fsgov</td>\n",
       "      <td>ddf--datapoints--xunit_us_2t3_fsgov--by--locat...</td>\n",
       "    </tr>\n",
       "    <tr>\n",
       "      <th>0</th>\n",
       "      <td>location,time</td>\n",
       "      <td>xunit_us_3_fsgov</td>\n",
       "      <td>ddf--datapoints--xunit_us_3_fsgov--by--locatio...</td>\n",
       "    </tr>\n",
       "    <tr>\n",
       "      <th>0</th>\n",
       "      <td>location,time</td>\n",
       "      <td>xunit_us_4_fsgov</td>\n",
       "      <td>ddf--datapoints--xunit_us_4_fsgov--by--locatio...</td>\n",
       "    </tr>\n",
       "    <tr>\n",
       "      <th>0</th>\n",
       "      <td>location,time</td>\n",
       "      <td>xunit_us_5t8_fsgov</td>\n",
       "      <td>ddf--datapoints--xunit_us_5t8_fsgov--by--locat...</td>\n",
       "    </tr>\n",
       "    <tr>\n",
       "      <th>0</th>\n",
       "      <td>location,time</td>\n",
       "      <td>xunit_usconst_1_fsgov</td>\n",
       "      <td>ddf--datapoints--xunit_usconst_1_fsgov--by--lo...</td>\n",
       "    </tr>\n",
       "    <tr>\n",
       "      <th>0</th>\n",
       "      <td>location,time</td>\n",
       "      <td>xunit_usconst_2_fsgov</td>\n",
       "      <td>ddf--datapoints--xunit_usconst_2_fsgov--by--lo...</td>\n",
       "    </tr>\n",
       "    <tr>\n",
       "      <th>0</th>\n",
       "      <td>location,time</td>\n",
       "      <td>xunit_usconst_2t3_fsgov</td>\n",
       "      <td>ddf--datapoints--xunit_usconst_2t3_fsgov--by--...</td>\n",
       "    </tr>\n",
       "    <tr>\n",
       "      <th>0</th>\n",
       "      <td>location,time</td>\n",
       "      <td>xunit_usconst_3_fsgov</td>\n",
       "      <td>ddf--datapoints--xunit_usconst_3_fsgov--by--lo...</td>\n",
       "    </tr>\n",
       "    <tr>\n",
       "      <th>0</th>\n",
       "      <td>location,time</td>\n",
       "      <td>xunit_usconst_4_fsgov</td>\n",
       "      <td>ddf--datapoints--xunit_usconst_4_fsgov--by--lo...</td>\n",
       "    </tr>\n",
       "    <tr>\n",
       "      <th>0</th>\n",
       "      <td>location,time</td>\n",
       "      <td>xunit_usconst_5t8_fsgov</td>\n",
       "      <td>ddf--datapoints--xunit_usconst_5t8_fsgov--by--...</td>\n",
       "    </tr>\n",
       "    <tr>\n",
       "      <th>0</th>\n",
       "      <td>location</td>\n",
       "      <td>name</td>\n",
       "      <td>ddf--entities--location.csv</td>\n",
       "    </tr>\n",
       "  </tbody>\n",
       "</table>\n",
       "<p>1688 rows × 3 columns</p>\n",
       "</div>"
      ],
      "text/plain": [
       "              key                     value  \\\n",
       "0         concept                      name   \n",
       "1         concept              concept_type   \n",
       "0         concept                      name   \n",
       "1         concept              concept_type   \n",
       "0   location,time                     20000   \n",
       "0   location,time                     20001   \n",
       "0   location,time                     20002   \n",
       "0   location,time                     20003   \n",
       "0   location,time                     20004   \n",
       "0   location,time                     20005   \n",
       "0   location,time                     20010   \n",
       "0   location,time                     20011   \n",
       "0   location,time                     20016   \n",
       "0   location,time                     20017   \n",
       "0   location,time                     20022   \n",
       "0   location,time                     20023   \n",
       "0   location,time                     20030   \n",
       "0   location,time                     20031   \n",
       "0   location,time                     20032   \n",
       "0   location,time                     20033   \n",
       "0   location,time                     20034   \n",
       "0   location,time                     20035   \n",
       "0   location,time                     20040   \n",
       "0   location,time                     20041   \n",
       "0   location,time                     20046   \n",
       "0   location,time                     20047   \n",
       "0   location,time                     20052   \n",
       "0   location,time                     20053   \n",
       "0   location,time                     20060   \n",
       "0   location,time                     20061   \n",
       "..            ...                       ...   \n",
       "0   location,time      xunit_gdpcap_2_fsgov   \n",
       "0   location,time    xunit_gdpcap_2t3_fsgov   \n",
       "0   location,time      xunit_gdpcap_3_fsgov   \n",
       "0   location,time      xunit_gdpcap_4_fsgov   \n",
       "0   location,time    xunit_gdpcap_5t8_fsgov   \n",
       "0   location,time         xunit_ppp_1_fsgov   \n",
       "0   location,time         xunit_ppp_2_fsgov   \n",
       "0   location,time       xunit_ppp_2t3_fsgov   \n",
       "0   location,time         xunit_ppp_3_fsgov   \n",
       "0   location,time         xunit_ppp_4_fsgov   \n",
       "0   location,time       xunit_ppp_5t8_fsgov   \n",
       "0   location,time    xunit_pppconst_1_fsgov   \n",
       "0   location,time    xunit_pppconst_2_fsgov   \n",
       "0   location,time  xunit_pppconst_2t3_fsgov   \n",
       "0   location,time    xunit_pppconst_3_fsgov   \n",
       "0   location,time    xunit_pppconst_4_fsgov   \n",
       "0   location,time  xunit_pppconst_5t8_fsgov   \n",
       "0   location,time          xunit_us_1_fsgov   \n",
       "0   location,time          xunit_us_2_fsgov   \n",
       "0   location,time        xunit_us_2t3_fsgov   \n",
       "0   location,time          xunit_us_3_fsgov   \n",
       "0   location,time          xunit_us_4_fsgov   \n",
       "0   location,time        xunit_us_5t8_fsgov   \n",
       "0   location,time     xunit_usconst_1_fsgov   \n",
       "0   location,time     xunit_usconst_2_fsgov   \n",
       "0   location,time   xunit_usconst_2t3_fsgov   \n",
       "0   location,time     xunit_usconst_3_fsgov   \n",
       "0   location,time     xunit_usconst_4_fsgov   \n",
       "0   location,time   xunit_usconst_5t8_fsgov   \n",
       "0        location                      name   \n",
       "\n",
       "                                                 file  \n",
       "0                       ddf--concepts--continuous.csv  \n",
       "1                       ddf--concepts--continuous.csv  \n",
       "0                         ddf--concepts--discrete.csv  \n",
       "1                         ddf--concepts--discrete.csv  \n",
       "0      ddf--datapoints--20000--by--location--time.csv  \n",
       "0      ddf--datapoints--20001--by--location--time.csv  \n",
       "0      ddf--datapoints--20002--by--location--time.csv  \n",
       "0      ddf--datapoints--20003--by--location--time.csv  \n",
       "0      ddf--datapoints--20004--by--location--time.csv  \n",
       "0      ddf--datapoints--20005--by--location--time.csv  \n",
       "0      ddf--datapoints--20010--by--location--time.csv  \n",
       "0      ddf--datapoints--20011--by--location--time.csv  \n",
       "0      ddf--datapoints--20016--by--location--time.csv  \n",
       "0      ddf--datapoints--20017--by--location--time.csv  \n",
       "0      ddf--datapoints--20022--by--location--time.csv  \n",
       "0      ddf--datapoints--20023--by--location--time.csv  \n",
       "0      ddf--datapoints--20030--by--location--time.csv  \n",
       "0      ddf--datapoints--20031--by--location--time.csv  \n",
       "0      ddf--datapoints--20032--by--location--time.csv  \n",
       "0      ddf--datapoints--20033--by--location--time.csv  \n",
       "0      ddf--datapoints--20034--by--location--time.csv  \n",
       "0      ddf--datapoints--20035--by--location--time.csv  \n",
       "0      ddf--datapoints--20040--by--location--time.csv  \n",
       "0      ddf--datapoints--20041--by--location--time.csv  \n",
       "0      ddf--datapoints--20046--by--location--time.csv  \n",
       "0      ddf--datapoints--20047--by--location--time.csv  \n",
       "0      ddf--datapoints--20052--by--location--time.csv  \n",
       "0      ddf--datapoints--20053--by--location--time.csv  \n",
       "0      ddf--datapoints--20060--by--location--time.csv  \n",
       "0      ddf--datapoints--20061--by--location--time.csv  \n",
       "..                                                ...  \n",
       "0   ddf--datapoints--xunit_gdpcap_2_fsgov--by--loc...  \n",
       "0   ddf--datapoints--xunit_gdpcap_2t3_fsgov--by--l...  \n",
       "0   ddf--datapoints--xunit_gdpcap_3_fsgov--by--loc...  \n",
       "0   ddf--datapoints--xunit_gdpcap_4_fsgov--by--loc...  \n",
       "0   ddf--datapoints--xunit_gdpcap_5t8_fsgov--by--l...  \n",
       "0   ddf--datapoints--xunit_ppp_1_fsgov--by--locati...  \n",
       "0   ddf--datapoints--xunit_ppp_2_fsgov--by--locati...  \n",
       "0   ddf--datapoints--xunit_ppp_2t3_fsgov--by--loca...  \n",
       "0   ddf--datapoints--xunit_ppp_3_fsgov--by--locati...  \n",
       "0   ddf--datapoints--xunit_ppp_4_fsgov--by--locati...  \n",
       "0   ddf--datapoints--xunit_ppp_5t8_fsgov--by--loca...  \n",
       "0   ddf--datapoints--xunit_pppconst_1_fsgov--by--l...  \n",
       "0   ddf--datapoints--xunit_pppconst_2_fsgov--by--l...  \n",
       "0   ddf--datapoints--xunit_pppconst_2t3_fsgov--by-...  \n",
       "0   ddf--datapoints--xunit_pppconst_3_fsgov--by--l...  \n",
       "0   ddf--datapoints--xunit_pppconst_4_fsgov--by--l...  \n",
       "0   ddf--datapoints--xunit_pppconst_5t8_fsgov--by-...  \n",
       "0   ddf--datapoints--xunit_us_1_fsgov--by--locatio...  \n",
       "0   ddf--datapoints--xunit_us_2_fsgov--by--locatio...  \n",
       "0   ddf--datapoints--xunit_us_2t3_fsgov--by--locat...  \n",
       "0   ddf--datapoints--xunit_us_3_fsgov--by--locatio...  \n",
       "0   ddf--datapoints--xunit_us_4_fsgov--by--locatio...  \n",
       "0   ddf--datapoints--xunit_us_5t8_fsgov--by--locat...  \n",
       "0   ddf--datapoints--xunit_usconst_1_fsgov--by--lo...  \n",
       "0   ddf--datapoints--xunit_usconst_2_fsgov--by--lo...  \n",
       "0   ddf--datapoints--xunit_usconst_2t3_fsgov--by--...  \n",
       "0   ddf--datapoints--xunit_usconst_3_fsgov--by--lo...  \n",
       "0   ddf--datapoints--xunit_usconst_4_fsgov--by--lo...  \n",
       "0   ddf--datapoints--xunit_usconst_5t8_fsgov--by--...  \n",
       "0                         ddf--entities--location.csv  \n",
       "\n",
       "[1688 rows x 3 columns]"
      ]
     },
     "execution_count": 39,
     "metadata": {},
     "output_type": "execute_result"
    }
   ],
   "source": [
    "create_index_file('../')"
   ]
  },
  {
   "cell_type": "code",
   "execution_count": null,
   "metadata": {
    "collapsed": true
   },
   "outputs": [],
   "source": []
  },
  {
   "cell_type": "code",
   "execution_count": null,
   "metadata": {
    "collapsed": true
   },
   "outputs": [],
   "source": []
  },
  {
   "cell_type": "code",
   "execution_count": null,
   "metadata": {
    "collapsed": true
   },
   "outputs": [],
   "source": []
  },
  {
   "cell_type": "code",
   "execution_count": null,
   "metadata": {
    "collapsed": true
   },
   "outputs": [],
   "source": []
  },
  {
   "cell_type": "code",
   "execution_count": null,
   "metadata": {
    "collapsed": true
   },
   "outputs": [],
   "source": []
  }
 ],
 "metadata": {
  "kernelspec": {
   "display_name": "Python 3",
   "language": "python",
   "name": "python3"
  },
  "language_info": {
   "codemirror_mode": {
    "name": "ipython",
    "version": 3
   },
   "file_extension": ".py",
   "mimetype": "text/x-python",
   "name": "python",
   "nbconvert_exporter": "python",
   "pygments_lexer": "ipython3",
   "version": "3.5.1"
  }
 },
 "nbformat": 4,
 "nbformat_minor": 0
}
